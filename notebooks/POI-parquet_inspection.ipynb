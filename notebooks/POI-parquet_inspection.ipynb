{
 "cells": [
  {
   "cell_type": "code",
   "execution_count": 1,
   "metadata": {},
   "outputs": [
    {
     "name": "stdout",
     "output_type": "stream",
     "text": [
      "ERROR: Output file not found at data/processed/parking_predictions_with_pois.parquet\n"
     ]
    }
   ],
   "source": [
    "import pandas as pd\n",
    "import numpy as np\n",
    "\n",
    "output_file = 'data/processed/parking_predictions_with_pois.parquet'\n",
    "try:\n",
    "    df = pd.read_parquet(output_file)\n",
    "\n",
    "    print(\"--- DataFrame Info ---\")\n",
    "    df.info()\n",
    "\n",
    "    print(\"\\n--- DataFrame Head ---\")\n",
    "    print(df.head())\n",
    "\n",
    "    # Identify POI columns (adjust if your naming convention differs slightly)\n",
    "    poi_cols = [col for col in df.columns if col.startswith('poi_') and col.endswith('m')]\n",
    "\n",
    "    if poi_cols:\n",
    "        print(f\"\\n--- Found {len(poi_cols)} POI columns: ---\")\n",
    "        print(poi_cols)\n",
    "\n",
    "        print(\"\\n--- POI Columns Describe ---\")\n",
    "        # Attempt to convert to float for describe, as it handles NaNs and gives numeric stats\n",
    "        # If your counts should strictly be integers and have no NaNs, .astype(int) might be an option\n",
    "        # but float is safer for a general describe() if NaNs might exist or if some counts were float.\n",
    "        try:\n",
    "            print(df[poi_cols].astype(float).describe())\n",
    "        except Exception as e:\n",
    "            print(f\"Could not describe POI columns directly, attempting column by column. Error: {e}\")\n",
    "            for col in poi_cols:\n",
    "                try:\n",
    "                    print(f\"\\nDescribing column: {col}\")\n",
    "                    print(df[col].astype(float).describe())\n",
    "                except Exception as e_col:\n",
    "                    print(f\"Could not describe column {col}: {e_col}\")\n",
    "\n",
    "\n",
    "        print(\"\\n--- POI Columns NaN Counts ---\")\n",
    "        print(df[poi_cols].isnull().sum())\n",
    "    else:\n",
    "        print(\"\\n--- No POI columns (matching 'poi_*_...m') found! ---\")\n",
    "\n",
    "except FileNotFoundError:\n",
    "    print(f\"ERROR: Output file not found at {output_file}\")\n",
    "except Exception as e:\n",
    "    print(f\"An error occurred: {e}\")\n"
   ]
  }
 ],
 "metadata": {
  "kernelspec": {
   "display_name": ".venv",
   "language": "python",
   "name": "python3"
  },
  "language_info": {
   "codemirror_mode": {
    "name": "ipython",
    "version": 3
   },
   "file_extension": ".py",
   "mimetype": "text/x-python",
   "name": "python",
   "nbconvert_exporter": "python",
   "pygments_lexer": "ipython3",
   "version": "3.12.2"
  }
 },
 "nbformat": 4,
 "nbformat_minor": 2
}
