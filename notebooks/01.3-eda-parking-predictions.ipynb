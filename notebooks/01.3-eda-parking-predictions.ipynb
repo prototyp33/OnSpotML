{
 "cells": [
  {
   "cell_type": "code",
   "execution_count": null,
   "metadata": {},
   "outputs": [],
   "source": [
    "print(\"Unique prediction codes:\", df_loaded['prediction'].unique())"
   ]
  }
 ],
 "metadata": {
  "language_info": {
   "name": "python"
  }
 },
 "nbformat": 4,
 "nbformat_minor": 2
}
