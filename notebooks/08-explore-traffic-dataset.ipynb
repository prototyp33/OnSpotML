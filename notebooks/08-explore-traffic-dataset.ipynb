{
 "cells": [
  {
   "cell_type": "markdown",
   "metadata": {},
   "source": [
    "# -*- coding: utf-8 -*-\n",
    "\"\"\"\n",
    "# Traffic Data Exploration (2022-2023)\n",
    "\n",
    "This notebook analyzes the combined historical traffic dataset to identify patterns and trends\n",
    "across time-of-day, weekdays, seasons, and geographic segments.\n",
    "\n",
    "The dataset covers January 2022 through December 2023 (except October 2023)\n",
    "with 5-minute interval traffic status for Barcelona road segments.\n",
    "\"\"\"\n"
   ]
  },
  {
   "cell_type": "code",
   "execution_count": 1,
   "metadata": {},
   "outputs": [],
   "source": [
    "import pandas as pd\n",
    "import numpy as np\n",
    "import matplotlib.pyplot as plt\n",
    "import seaborn as sns\n",
    "import plotly.express as px\n",
    "import plotly.graph_objects as go\n",
    "from plotly.subplots import make_subplots\n",
    "import os\n",
    "import gc\n",
    "from datetime import datetime\n",
    "import calendar\n"
   ]
  },
  {
   "cell_type": "code",
   "execution_count": 2,
   "metadata": {},
   "outputs": [],
   "source": [
    "# Set plot styles\n",
    "plt.style.use('ggplot')\n",
    "sns.set(style=\"whitegrid\")\n",
    "plt.rcParams['figure.figsize'] = (12, 8)\n",
    "plt.rcParams['font.size'] = 12"
   ]
  },
  {
   "cell_type": "code",
   "execution_count": 3,
   "metadata": {},
   "outputs": [],
   "source": [
    "# --- Configuration ---\n",
    "PARQUET_FILE = \"../data/processed/traffic_history_2022_2023_processed.parquet\"\n",
    "SAMPLE_SIZE = 5_000_000  # For memory-intensive operations, use sample for initial exploration\n"
   ]
  },
  {
   "cell_type": "code",
   "execution_count": 4,
   "metadata": {},
   "outputs": [],
   "source": [
    "# --- Helper Functions ---\n",
    "def create_time_features(df):\n",
    "    \"\"\"Extract time-based features from timestamp column.\"\"\"\n",
    "    # Create time-based features\n",
    "    df['year'] = df['Timestamp'].dt.year\n",
    "    df['month'] = df['Timestamp'].dt.month\n",
    "    df['day'] = df['Timestamp'].dt.day\n",
    "    df['dayofweek'] = df['Timestamp'].dt.dayofweek  # 0=Monday, 6=Sunday\n",
    "    df['hour'] = df['Timestamp'].dt.hour\n",
    "    df['minute'] = df['Timestamp'].dt.minute\n",
    "    \n",
    "    # Create categorical period features\n",
    "    df['weekday'] = df['dayofweek'].apply(lambda x: calendar.day_name[x])\n",
    "    df['is_weekend'] = df['dayofweek'].isin([5, 6]).astype(int)\n",
    "    df['month_name'] = df['month'].apply(lambda x: calendar.month_name[x])\n",
    "    \n",
    "    # Time of day categories (can customize these)\n",
    "    time_categories = [\n",
    "        (0, 6, 'Night'),\n",
    "        (6, 10, 'Morning Rush'),\n",
    "        (10, 16, 'Daytime'),\n",
    "        (16, 20, 'Evening Rush'),\n",
    "        (20, 24, 'Evening')\n",
    "    ]\n",
    "    \n",
    "    def categorize_hour(h):\n",
    "        for start, end, label in time_categories:\n",
    "            if start <= h < end:\n",
    "                return label\n",
    "        return 'Unknown'\n",
    "    \n",
    "    df['time_of_day'] = df['hour'].apply(categorize_hour)\n",
    "    \n",
    "    # Create season column\n",
    "    def get_season(month):\n",
    "        if month in [12, 1, 2]:\n",
    "            return 'Winter'\n",
    "        elif month in [3, 4, 5]:\n",
    "            return 'Spring'\n",
    "        elif month in [6, 7, 8]:\n",
    "            return 'Summer'\n",
    "        else:\n",
    "            return 'Fall'\n",
    "    \n",
    "    df['season'] = df['month'].apply(get_season)\n",
    "    \n",
    "    return df\n",
    "\n",
    "def decode_traffic_status(status_value):\n",
    "    \"\"\"Decode numeric traffic status values to descriptive labels.\"\"\"\n",
    "    status_map = {\n",
    "        0: 'No Data',\n",
    "        1: 'Very Fluid',\n",
    "        2: 'Fluid',\n",
    "        3: 'Dense',\n",
    "        4: 'Very Dense',\n",
    "        5: 'Congested',\n",
    "        6: 'Blocked'\n",
    "    }\n",
    "    return status_map.get(status_value, f'Unknown ({status_value})')"
   ]
  },
  {
   "cell_type": "markdown",
   "metadata": {},
   "source": [
    "# ---------- START OF ANALYSIS ----------\n"
   ]
  },
  {
   "cell_type": "code",
   "execution_count": 5,
   "metadata": {},
   "outputs": [
    {
     "name": "stdout",
     "output_type": "stream",
     "text": [
      "Loading traffic data from ../data/processed/traffic_history_2022_2023_processed.parquet...\n",
      "\n",
      "--- Basic Dataset Information ---\n",
      "Dataset shape: (106964597, 4)\n",
      "Memory usage: 2040.19 MB\n",
      "\n",
      "Column information:\n",
      "<class 'pandas.core.frame.DataFrame'>\n",
      "RangeIndex: 106964597 entries, 0 to 106964596\n",
      "Data columns (total 4 columns):\n",
      " #   Column          Dtype         \n",
      "---  ------          -----         \n",
      " 0   ID_TRAM         int64         \n",
      " 1   Timestamp       datetime64[ns]\n",
      " 2   EstatActual     Int8          \n",
      " 3   PrevisioActual  Int8          \n",
      "dtypes: Int8(2), datetime64[ns](1), int64(1)\n",
      "memory usage: 2.0 GB\n",
      "\n",
      "--- Summary Statistics ---\n",
      "            ID_TRAM                      Timestamp  EstatActual  \\\n",
      "count  1.069646e+08                      106964597  106952376.0   \n",
      "mean   2.668614e+02  2022-12-19 13:40:13.519811328     1.097657   \n",
      "min    1.000000e+00            2022-01-01 00:00:00          0.0   \n",
      "25%    1.330000e+02            2022-06-25 09:10:00          0.0   \n",
      "50%    2.660000e+02            2022-12-16 21:55:00          1.0   \n",
      "75%    3.990000e+02            2023-06-09 10:50:00          2.0   \n",
      "max    5.390000e+02            2023-12-31 23:50:00          6.0   \n",
      "std    1.544199e+02                            NaN     1.209313   \n",
      "\n",
      "       PrevisioActual  \n",
      "count     106952376.0  \n",
      "mean         1.040811  \n",
      "min               0.0  \n",
      "25%               0.0  \n",
      "50%               1.0  \n",
      "75%               2.0  \n",
      "max               6.0  \n",
      "std          1.251094  \n",
      "\n",
      "--- Missing Values ---\n",
      "ID_TRAM               0\n",
      "Timestamp             0\n",
      "EstatActual       12221\n",
      "PrevisioActual    12221\n",
      "dtype: int64\n"
     ]
    }
   ],
   "source": [
    "# --- 1. Load the data ---\n",
    "print(f\"Loading traffic data from {PARQUET_FILE}...\")\n",
    "df_traffic = pd.read_parquet(PARQUET_FILE)\n",
    "\n",
    "# Display basic info\n",
    "print(\"\\n--- Basic Dataset Information ---\")\n",
    "print(f\"Dataset shape: {df_traffic.shape}\")\n",
    "print(f\"Memory usage: {df_traffic.memory_usage().sum() / 1024**2:.2f} MB\")\n",
    "print(\"\\nColumn information:\")\n",
    "df_traffic.info()\n",
    "\n",
    "print(\"\\n--- Summary Statistics ---\")\n",
    "print(df_traffic.describe())\n",
    "\n",
    "# Check for missing values\n",
    "print(\"\\n--- Missing Values ---\")\n",
    "print(df_traffic.isna().sum())\n"
   ]
  },
  {
   "cell_type": "code",
   "execution_count": 6,
   "metadata": {},
   "outputs": [
    {
     "name": "stdout",
     "output_type": "stream",
     "text": [
      "\n",
      "--- Traffic Status Distribution ---\n",
      "EstatActual (Current Status):\n",
      "  0 (No Data): 45,327,003 (42.38%)\n",
      "  1 (Very Fluid): 22,201,398 (20.76%)\n",
      "  2 (Fluid): 30,331,548 (28.36%)\n",
      "  3 (Dense): 5,153,886 (4.82%)\n",
      "  4 (Very Dense): 1,868,649 (1.75%)\n",
      "  5 (Congested): 823,123 (0.77%)\n",
      "  6 (Blocked): 1,246,769 (1.17%)\n",
      "\n",
      "PrevisioActual (Forecast Status):\n",
      "  0 (No Data): 50,538,664 (47.25%)\n",
      "  1 (Very Fluid): 19,969,789 (18.67%)\n",
      "  2 (Fluid): 25,870,938 (24.19%)\n",
      "  3 (Dense): 6,164,167 (5.76%)\n",
      "  4 (Very Dense): 2,177,776 (2.04%)\n",
      "  5 (Congested): 984,273 (0.92%)\n",
      "  6 (Blocked): 1,246,769 (1.17%)\n"
     ]
    }
   ],
   "source": [
    "# --- 2. Explore traffic status distributions ---\n",
    "print(\"\\n--- Traffic Status Distribution ---\")\n",
    "print(\"EstatActual (Current Status):\")\n",
    "estat_counts = df_traffic['EstatActual'].value_counts().sort_index()\n",
    "for status, count in estat_counts.items():\n",
    "    percent = 100 * count / len(df_traffic)\n",
    "    print(f\"  {status} ({decode_traffic_status(status)}): {count:,} ({percent:.2f}%)\")\n",
    "\n",
    "print(\"\\nPrevisioActual (Forecast Status):\")\n",
    "previsio_counts = df_traffic['PrevisioActual'].value_counts().sort_index()\n",
    "for status, count in previsio_counts.items():\n",
    "    percent = 100 * count / len(df_traffic)\n",
    "    print(f\"  {status} ({decode_traffic_status(status)}): {count:,} ({percent:.2f}%)\")"
   ]
  },
  {
   "cell_type": "code",
   "execution_count": 7,
   "metadata": {},
   "outputs": [
    {
     "name": "stdout",
     "output_type": "stream",
     "text": [
      "\n",
      "Taking a sample of 5,000,000 rows for detailed time analysis...\n",
      "\n",
      "Sample with time features:\n",
      "          ID_TRAM           Timestamp  EstatActual  PrevisioActual  year  \\\n",
      "82444374      408 2023-06-29 01:55:00            1               1  2023   \n",
      "60990859       56 2023-02-14 21:10:00            0               0  2023   \n",
      "3409026       382 2022-01-26 21:30:00            0               0  2022   \n",
      "77531139      376 2023-05-13 09:50:00            2               2  2023   \n",
      "8949472       534 2022-02-10 13:20:00            2               2  2022   \n",
      "\n",
      "          month  day  dayofweek  hour  minute    weekday  is_weekend  \\\n",
      "82444374      6   29          3     1      55   Thursday           0   \n",
      "60990859      2   14          1    21      10    Tuesday           0   \n",
      "3409026       1   26          2    21      30  Wednesday           0   \n",
      "77531139      5   13          5     9      50   Saturday           1   \n",
      "8949472       2   10          3    13      20   Thursday           0   \n",
      "\n",
      "         month_name   time_of_day  season  \n",
      "82444374       June         Night  Summer  \n",
      "60990859   February       Evening  Winter  \n",
      "3409026     January       Evening  Winter  \n",
      "77531139        May  Morning Rush  Spring  \n",
      "8949472    February       Daytime  Winter  \n"
     ]
    }
   ],
   "source": [
    "# --- 3. Create time-based features for a sample ---\n",
    "print(f\"\\nTaking a sample of {SAMPLE_SIZE:,} rows for detailed time analysis...\")\n",
    "df_sample = df_traffic.sample(n=min(SAMPLE_SIZE, len(df_traffic)), random_state=42)\n",
    "df_sample = create_time_features(df_sample)\n",
    "\n",
    "# Free memory\n",
    "del df_traffic\n",
    "gc.collect()\n",
    "\n",
    "print(\"\\nSample with time features:\")\n",
    "print(df_sample.head())"
   ]
  },
  {
   "cell_type": "code",
   "execution_count": 8,
   "metadata": {},
   "outputs": [
    {
     "name": "stdout",
     "output_type": "stream",
     "text": [
      "\n",
      "--- Traffic by Time of Day ---\n",
      "Plot saved: traffic_by_hour.png\n"
     ]
    }
   ],
   "source": [
    "# --- 4. Time of Day Analysis ---\n",
    "print(\"\\n--- Traffic by Time of Day ---\")\n",
    "# Calculate average traffic status by hour\n",
    "hourly_traffic = df_sample.groupby('hour')['EstatActual'].mean().reset_index()\n",
    "hourly_traffic.columns = ['Hour', 'Average Traffic Status']\n",
    "\n",
    "# Create a bar plot\n",
    "plt.figure(figsize=(14, 7))\n",
    "sns.barplot(x='Hour', y='Average Traffic Status', data=hourly_traffic)\n",
    "plt.title('Average Traffic Status by Hour (0 = No Data, 5 = Congested)')\n",
    "plt.xlabel('Hour of Day')\n",
    "plt.ylabel('Average Traffic Status')\n",
    "plt.xticks(range(0, 24))\n",
    "plt.tight_layout()\n",
    "plt.savefig('traffic_by_hour.png')\n",
    "plt.close()\n",
    "print(\"Plot saved: traffic_by_hour.png\")\n"
   ]
  },
  {
   "cell_type": "code",
   "execution_count": 9,
   "metadata": {},
   "outputs": [
    {
     "name": "stdout",
     "output_type": "stream",
     "text": [
      "\n",
      "--- Traffic by Day of Week ---\n",
      "Plot saved: traffic_day_hour_heatmap.png\n"
     ]
    }
   ],
   "source": [
    "# --- 5. Day of Week Analysis ---\n",
    "print(\"\\n--- Traffic by Day of Week ---\")\n",
    "# Calculate average traffic by day of week and hour (heatmap)\n",
    "day_hour_traffic = df_sample.groupby(['dayofweek', 'hour'])['EstatActual'].mean().reset_index()\n",
    "\n",
    "# Ensure numeric data types before pivoting\n",
    "day_hour_traffic['EstatActual'] = pd.to_numeric(day_hour_traffic['EstatActual'], errors='coerce')\n",
    "day_hour_traffic['dayofweek'] = pd.to_numeric(day_hour_traffic['dayofweek'], errors='coerce')\n",
    "day_hour_traffic['hour'] = pd.to_numeric(day_hour_traffic['hour'], errors='coerce')\n",
    "\n",
    "# Create pivot table with explicit float values\n",
    "day_hour_pivot = day_hour_traffic.pivot(index='dayofweek', columns='hour', values='EstatActual')\n",
    "\n",
    "# Fill any NaN values that might cause dtype issues\n",
    "day_hour_pivot = day_hour_pivot.fillna(0).astype(float)\n",
    "\n",
    "# Create a heatmap\n",
    "plt.figure(figsize=(16, 8))\n",
    "sns.heatmap(day_hour_pivot, cmap='YlOrRd', annot=False, fmt=\".2f\", \n",
    "            xticklabels=range(24),\n",
    "            yticklabels=['Monday', 'Tuesday', 'Wednesday', 'Thursday', 'Friday', 'Saturday', 'Sunday'])\n",
    "plt.title('Average Traffic Status by Day of Week and Hour')\n",
    "plt.xlabel('Hour of Day')\n",
    "plt.ylabel('Day of Week')\n",
    "plt.tight_layout()\n",
    "plt.savefig('traffic_day_hour_heatmap.png')\n",
    "plt.close()\n",
    "print(\"Plot saved: traffic_day_hour_heatmap.png\")"
   ]
  },
  {
   "cell_type": "code",
   "execution_count": 10,
   "metadata": {},
   "outputs": [
    {
     "name": "stdout",
     "output_type": "stream",
     "text": [
      "\n",
      "--- Traffic by Month ---\n",
      "Plot saved: traffic_by_month.png\n"
     ]
    }
   ],
   "source": [
    "# --- 6. Monthly Analysis ---\n",
    "print(\"\\n--- Traffic by Month ---\")\n",
    "# Calculate average traffic by month\n",
    "monthly_traffic = df_sample.groupby(['year', 'month'])['EstatActual'].mean().reset_index()\n",
    "monthly_traffic['year_month'] = monthly_traffic['year'].astype(str) + '-' + monthly_traffic['month'].astype(str).str.zfill(2)\n",
    "\n",
    "# Create a bar plot\n",
    "plt.figure(figsize=(14, 7))\n",
    "sns.barplot(x='year_month', y='EstatActual', data=monthly_traffic)\n",
    "plt.title('Average Traffic Status by Month')\n",
    "plt.xlabel('Year-Month')\n",
    "plt.ylabel('Average Traffic Status')\n",
    "plt.xticks(rotation=45)\n",
    "plt.tight_layout()\n",
    "plt.savefig('traffic_by_month.png')\n",
    "plt.close()\n",
    "print(\"Plot saved: traffic_by_month.png\")"
   ]
  },
  {
   "cell_type": "code",
   "execution_count": 11,
   "metadata": {},
   "outputs": [
    {
     "name": "stdout",
     "output_type": "stream",
     "text": [
      "\n",
      "--- Yearly Comparison (2022 vs 2023) ---\n",
      "Plot saved: yearly_comparison.png\n"
     ]
    }
   ],
   "source": [
    "# --- 7. Yearly Comparison ---\n",
    "print(\"\\n--- Yearly Comparison (2022 vs 2023) ---\")\n",
    "yearly_traffic = df_sample.groupby(['year', 'month'])['EstatActual'].mean().reset_index()\n",
    "\n",
    "# Create line plots for yearly comparison\n",
    "plt.figure(figsize=(14, 7))\n",
    "for year in yearly_traffic['year'].unique():\n",
    "    year_data = yearly_traffic[yearly_traffic['year'] == year]\n",
    "    plt.plot(year_data['month'], year_data['EstatActual'], marker='o', linewidth=2, label=str(year))\n",
    "\n",
    "plt.title('Monthly Average Traffic Status: 2022 vs 2023')\n",
    "plt.xlabel('Month')\n",
    "plt.ylabel('Average Traffic Status')\n",
    "plt.xticks(range(1, 13), calendar.month_abbr[1:13])\n",
    "plt.grid(True)\n",
    "plt.legend()\n",
    "plt.tight_layout()\n",
    "plt.savefig('yearly_comparison.png')\n",
    "plt.close()\n",
    "print(\"Plot saved: yearly_comparison.png\")"
   ]
  },
  {
   "cell_type": "code",
   "execution_count": 12,
   "metadata": {},
   "outputs": [
    {
     "name": "stdout",
     "output_type": "stream",
     "text": [
      "\n",
      "--- Top Congested Road Segments ---\n",
      "\n",
      "Top 10 Most Congested Segments:\n",
      "     ID_TRAM      mean  median  count\n",
      "258      259  5.999369     6.0   9511\n",
      "256      257  5.974387     6.0   9136\n",
      "257      258  5.972547     6.0   9325\n",
      "255      256  5.970348     6.0   9443\n",
      "184      185  4.295428     6.0   9383\n",
      "186      187  3.294168     2.0   9362\n",
      "131      132  2.762374     3.0   9334\n",
      "441      443  2.654571     3.0   9342\n",
      "443      445  2.558704     3.0   9352\n",
      "150      151  2.546475     2.0   9532\n",
      "Plot saved: top_congested_segments.png\n"
     ]
    }
   ],
   "source": [
    "# --- 8. Top Congested Segments Analysis ---\n",
    "print(\"\\n--- Top Congested Road Segments ---\")\n",
    "segment_stats = df_sample.groupby('ID_TRAM')['EstatActual'].agg(['mean', 'median', 'count']).reset_index()\n",
    "segment_stats = segment_stats.sort_values('mean', ascending=False)\n",
    "\n",
    "print(\"\\nTop 10 Most Congested Segments:\")\n",
    "print(segment_stats.head(10))\n",
    "\n",
    "# Plot top 5 congested segments\n",
    "top_segments = segment_stats.head(5)['ID_TRAM'].tolist()\n",
    "top_segments_data = df_sample[df_sample['ID_TRAM'].isin(top_segments)]\n",
    "\n",
    "plt.figure(figsize=(14, 8))\n",
    "sns.boxplot(x='ID_TRAM', y='EstatActual', data=top_segments_data)\n",
    "plt.title('Traffic Status Distribution for Top 5 Congested Segments')\n",
    "plt.xlabel('Segment ID')\n",
    "plt.ylabel('Traffic Status')\n",
    "plt.tight_layout()\n",
    "plt.savefig('top_congested_segments.png')\n",
    "plt.close()\n",
    "print(\"Plot saved: top_congested_segments.png\")"
   ]
  },
  {
   "cell_type": "code",
   "execution_count": 13,
   "metadata": {},
   "outputs": [
    {
     "name": "stdout",
     "output_type": "stream",
     "text": [
      "\n",
      "--- Time of Day Patterns Across Different Segments ---\n",
      "Interactive plot saved: segment_hourly_patterns.html\n"
     ]
    }
   ],
   "source": [
    "# --- 9. Time of Day Patterns Across Segments ---\n",
    "print(\"\\n--- Time of Day Patterns Across Different Segments ---\")\n",
    "# Get 5 random segments for comparison\n",
    "random_segments = df_sample['ID_TRAM'].drop_duplicates().sample(5).tolist()\n",
    "random_segments_data = df_sample[df_sample['ID_TRAM'].isin(random_segments)]\n",
    "\n",
    "# Plot hour patterns by segment using Plotly\n",
    "fig = px.line(random_segments_data.groupby(['ID_TRAM', 'hour'])['EstatActual'].mean().reset_index(),\n",
    "              x='hour', y='EstatActual', color='ID_TRAM', \n",
    "              title='Hourly Traffic Patterns for 5 Random Segments',\n",
    "              labels={'hour': 'Hour of Day', 'EstatActual': 'Average Traffic Status', 'ID_TRAM': 'Segment ID'})\n",
    "fig.write_html('segment_hourly_patterns.html')\n",
    "print(\"Interactive plot saved: segment_hourly_patterns.html\")\n"
   ]
  },
  {
   "cell_type": "code",
   "execution_count": 14,
   "metadata": {},
   "outputs": [
    {
     "name": "stdout",
     "output_type": "stream",
     "text": [
      "\n",
      "--- Summary of Key Findings ---\n",
      "1. Time of Day Patterns: Peak traffic hours are visible in the hourly plots\n",
      "2. Day of Week Patterns: Weekday vs weekend patterns in the heatmap\n",
      "3. Seasonal Variations: Monthly trends show seasonal traffic patterns\n",
      "4. Year-over-Year: Differences between 2022 and 2023 traffic conditions\n",
      "5. Road Segment Analysis: Identified top congested road segments\n",
      "\n",
      "Exploration completed! Check the generated plots for visual insights.\n"
     ]
    }
   ],
   "source": [
    "# --- 10. Show Summary Findings ---\n",
    "print(\"\\n--- Summary of Key Findings ---\")\n",
    "print(\"1. Time of Day Patterns: Peak traffic hours are visible in the hourly plots\")\n",
    "print(\"2. Day of Week Patterns: Weekday vs weekend patterns in the heatmap\")\n",
    "print(\"3. Seasonal Variations: Monthly trends show seasonal traffic patterns\")\n",
    "print(\"4. Year-over-Year: Differences between 2022 and 2023 traffic conditions\")\n",
    "print(\"5. Road Segment Analysis: Identified top congested road segments\")\n",
    "\n",
    "print(\"\\nExploration completed! Check the generated plots for visual insights.\")"
   ]
  }
 ],
 "metadata": {
  "kernelspec": {
   "display_name": ".venv",
   "language": "python",
   "name": "python3"
  },
  "language_info": {
   "codemirror_mode": {
    "name": "ipython",
    "version": 3
   },
   "file_extension": ".py",
   "mimetype": "text/x-python",
   "name": "python",
   "nbconvert_exporter": "python",
   "pygments_lexer": "ipython3",
   "version": "3.12.2"
  }
 },
 "nbformat": 4,
 "nbformat_minor": 2
}
